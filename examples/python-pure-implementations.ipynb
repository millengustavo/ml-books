{
 "cells": [
  {
   "cell_type": "markdown",
   "metadata": {},
   "source": [
    "# Implementation of some essential ML functions\n",
    "- The objective of this notebook is not to provide efficient implementations, but to practice/learn "
   ]
  },
  {
   "cell_type": "code",
   "execution_count": 16,
   "metadata": {},
   "outputs": [
    {
     "data": {
      "text/plain": [
       "((506, 13), (506,))"
      ]
     },
     "execution_count": 16,
     "metadata": {},
     "output_type": "execute_result"
    }
   ],
   "source": [
    "from sklearn.datasets import load_boston\n",
    "\n",
    "X, y = load_boston(return_X_y=True)\n",
    "\n",
    "(X.shape, y.shape)"
   ]
  },
  {
   "cell_type": "code",
   "execution_count": 17,
   "metadata": {},
   "outputs": [],
   "source": [
    "import pandas as pd\n",
    "\n",
    "df = pd.DataFrame(X, y).reset_index().rename(columns={\"index\": \"target\"})"
   ]
  },
  {
   "cell_type": "code",
   "execution_count": 18,
   "metadata": {},
   "outputs": [
    {
     "data": {
      "text/plain": [
       "(506, 14)"
      ]
     },
     "execution_count": 18,
     "metadata": {},
     "output_type": "execute_result"
    }
   ],
   "source": [
    "df.shape"
   ]
  },
  {
   "cell_type": "markdown",
   "metadata": {},
   "source": [
    "## train_test_split"
   ]
  },
  {
   "cell_type": "code",
   "execution_count": 4,
   "metadata": {},
   "outputs": [],
   "source": [
    "import numpy as np\n",
    "\n",
    "def split_train_test(data, test_ratio, random_seed=42):\n",
    "    np.random.seed(random_seed)\n",
    "    shuffled_indices = np.random.permutation(len(data))\n",
    "    test_set_size = int(len(data) * test_ratio)\n",
    "    test_indices = shuffled_indices[:test_set_size]\n",
    "    train_indices = shuffled_indices[test_set_size:]\n",
    "    return data.iloc[train_indices], data.iloc[test_indices]"
   ]
  },
  {
   "cell_type": "code",
   "execution_count": 5,
   "metadata": {},
   "outputs": [],
   "source": [
    "train, test = split_train_test(df, 0.2)"
   ]
  },
  {
   "cell_type": "code",
   "execution_count": 6,
   "metadata": {},
   "outputs": [
    {
     "data": {
      "text/html": [
       "<div>\n",
       "<style scoped>\n",
       "    .dataframe tbody tr th:only-of-type {\n",
       "        vertical-align: middle;\n",
       "    }\n",
       "\n",
       "    .dataframe tbody tr th {\n",
       "        vertical-align: top;\n",
       "    }\n",
       "\n",
       "    .dataframe thead th {\n",
       "        text-align: right;\n",
       "    }\n",
       "</style>\n",
       "<table border=\"1\" class=\"dataframe\">\n",
       "  <thead>\n",
       "    <tr style=\"text-align: right;\">\n",
       "      <th></th>\n",
       "      <th>target</th>\n",
       "      <th>0</th>\n",
       "      <th>1</th>\n",
       "      <th>2</th>\n",
       "      <th>3</th>\n",
       "      <th>4</th>\n",
       "      <th>5</th>\n",
       "      <th>6</th>\n",
       "      <th>7</th>\n",
       "      <th>8</th>\n",
       "      <th>9</th>\n",
       "      <th>10</th>\n",
       "      <th>11</th>\n",
       "      <th>12</th>\n",
       "    </tr>\n",
       "  </thead>\n",
       "  <tbody>\n",
       "    <tr>\n",
       "      <td>75</td>\n",
       "      <td>21.4</td>\n",
       "      <td>0.09512</td>\n",
       "      <td>0.0</td>\n",
       "      <td>12.83</td>\n",
       "      <td>0.0</td>\n",
       "      <td>0.437</td>\n",
       "      <td>6.286</td>\n",
       "      <td>45.0</td>\n",
       "      <td>4.5026</td>\n",
       "      <td>5.0</td>\n",
       "      <td>398.0</td>\n",
       "      <td>18.7</td>\n",
       "      <td>383.23</td>\n",
       "      <td>8.94</td>\n",
       "    </tr>\n",
       "    <tr>\n",
       "      <td>477</td>\n",
       "      <td>12.0</td>\n",
       "      <td>15.02340</td>\n",
       "      <td>0.0</td>\n",
       "      <td>18.10</td>\n",
       "      <td>0.0</td>\n",
       "      <td>0.614</td>\n",
       "      <td>5.304</td>\n",
       "      <td>97.3</td>\n",
       "      <td>2.1007</td>\n",
       "      <td>24.0</td>\n",
       "      <td>666.0</td>\n",
       "      <td>20.2</td>\n",
       "      <td>349.48</td>\n",
       "      <td>24.91</td>\n",
       "    </tr>\n",
       "    <tr>\n",
       "      <td>15</td>\n",
       "      <td>19.9</td>\n",
       "      <td>0.62739</td>\n",
       "      <td>0.0</td>\n",
       "      <td>8.14</td>\n",
       "      <td>0.0</td>\n",
       "      <td>0.538</td>\n",
       "      <td>5.834</td>\n",
       "      <td>56.5</td>\n",
       "      <td>4.4986</td>\n",
       "      <td>4.0</td>\n",
       "      <td>307.0</td>\n",
       "      <td>21.0</td>\n",
       "      <td>395.62</td>\n",
       "      <td>8.47</td>\n",
       "    </tr>\n",
       "  </tbody>\n",
       "</table>\n",
       "</div>"
      ],
      "text/plain": [
       "     target         0    1      2    3      4      5     6       7     8  \\\n",
       "75     21.4   0.09512  0.0  12.83  0.0  0.437  6.286  45.0  4.5026   5.0   \n",
       "477    12.0  15.02340  0.0  18.10  0.0  0.614  5.304  97.3  2.1007  24.0   \n",
       "15     19.9   0.62739  0.0   8.14  0.0  0.538  5.834  56.5  4.4986   4.0   \n",
       "\n",
       "         9    10      11     12  \n",
       "75   398.0  18.7  383.23   8.94  \n",
       "477  666.0  20.2  349.48  24.91  \n",
       "15   307.0  21.0  395.62   8.47  "
      ]
     },
     "execution_count": 6,
     "metadata": {},
     "output_type": "execute_result"
    }
   ],
   "source": [
    "train.head(3)"
   ]
  },
  {
   "cell_type": "code",
   "execution_count": 7,
   "metadata": {},
   "outputs": [
    {
     "data": {
      "text/html": [
       "<div>\n",
       "<style scoped>\n",
       "    .dataframe tbody tr th:only-of-type {\n",
       "        vertical-align: middle;\n",
       "    }\n",
       "\n",
       "    .dataframe tbody tr th {\n",
       "        vertical-align: top;\n",
       "    }\n",
       "\n",
       "    .dataframe thead th {\n",
       "        text-align: right;\n",
       "    }\n",
       "</style>\n",
       "<table border=\"1\" class=\"dataframe\">\n",
       "  <thead>\n",
       "    <tr style=\"text-align: right;\">\n",
       "      <th></th>\n",
       "      <th>target</th>\n",
       "      <th>0</th>\n",
       "      <th>1</th>\n",
       "      <th>2</th>\n",
       "      <th>3</th>\n",
       "      <th>4</th>\n",
       "      <th>5</th>\n",
       "      <th>6</th>\n",
       "      <th>7</th>\n",
       "      <th>8</th>\n",
       "      <th>9</th>\n",
       "      <th>10</th>\n",
       "      <th>11</th>\n",
       "      <th>12</th>\n",
       "    </tr>\n",
       "  </thead>\n",
       "  <tbody>\n",
       "    <tr>\n",
       "      <td>173</td>\n",
       "      <td>23.6</td>\n",
       "      <td>0.09178</td>\n",
       "      <td>0.0</td>\n",
       "      <td>4.05</td>\n",
       "      <td>0.0</td>\n",
       "      <td>0.510</td>\n",
       "      <td>6.416</td>\n",
       "      <td>84.1</td>\n",
       "      <td>2.6463</td>\n",
       "      <td>5.0</td>\n",
       "      <td>296.0</td>\n",
       "      <td>16.6</td>\n",
       "      <td>395.50</td>\n",
       "      <td>9.04</td>\n",
       "    </tr>\n",
       "    <tr>\n",
       "      <td>274</td>\n",
       "      <td>32.4</td>\n",
       "      <td>0.05644</td>\n",
       "      <td>40.0</td>\n",
       "      <td>6.41</td>\n",
       "      <td>1.0</td>\n",
       "      <td>0.447</td>\n",
       "      <td>6.758</td>\n",
       "      <td>32.9</td>\n",
       "      <td>4.0776</td>\n",
       "      <td>4.0</td>\n",
       "      <td>254.0</td>\n",
       "      <td>17.6</td>\n",
       "      <td>396.90</td>\n",
       "      <td>3.53</td>\n",
       "    </tr>\n",
       "    <tr>\n",
       "      <td>491</td>\n",
       "      <td>13.6</td>\n",
       "      <td>0.10574</td>\n",
       "      <td>0.0</td>\n",
       "      <td>27.74</td>\n",
       "      <td>0.0</td>\n",
       "      <td>0.609</td>\n",
       "      <td>5.983</td>\n",
       "      <td>98.8</td>\n",
       "      <td>1.8681</td>\n",
       "      <td>4.0</td>\n",
       "      <td>711.0</td>\n",
       "      <td>20.1</td>\n",
       "      <td>390.11</td>\n",
       "      <td>18.07</td>\n",
       "    </tr>\n",
       "  </tbody>\n",
       "</table>\n",
       "</div>"
      ],
      "text/plain": [
       "     target        0     1      2    3      4      5     6       7    8  \\\n",
       "173    23.6  0.09178   0.0   4.05  0.0  0.510  6.416  84.1  2.6463  5.0   \n",
       "274    32.4  0.05644  40.0   6.41  1.0  0.447  6.758  32.9  4.0776  4.0   \n",
       "491    13.6  0.10574   0.0  27.74  0.0  0.609  5.983  98.8  1.8681  4.0   \n",
       "\n",
       "         9    10      11     12  \n",
       "173  296.0  16.6  395.50   9.04  \n",
       "274  254.0  17.6  396.90   3.53  \n",
       "491  711.0  20.1  390.11  18.07  "
      ]
     },
     "execution_count": 7,
     "metadata": {},
     "output_type": "execute_result"
    }
   ],
   "source": [
    "test.head(3)"
   ]
  },
  {
   "cell_type": "markdown",
   "metadata": {},
   "source": [
    "## train_test_split without numpy"
   ]
  },
  {
   "cell_type": "code",
   "execution_count": 3,
   "metadata": {},
   "outputs": [],
   "source": [
    "import random\n",
    "\n",
    "def train_test_split(data, split=0.2, random_seed=42):\n",
    "    random.seed(random_seed)\n",
    "    train = []\n",
    "    train_size = (1-split) * len(data)\n",
    "    data_copy = list(data)\n",
    "    while len(train) < train_size:\n",
    "        index = random.randrange(len(data_copy))\n",
    "        train.append(data_copy.pop(index))\n",
    "    return train, data_copy"
   ]
  },
  {
   "cell_type": "code",
   "execution_count": 4,
   "metadata": {},
   "outputs": [
    {
     "name": "stdout",
     "output_type": "stream",
     "text": [
      "[[2], [1], [7], [4], [5], [6], [3], [10]]\n",
      "[[8], [9]]\n"
     ]
    }
   ],
   "source": [
    "data = [[1], [2], [3], [4], [5], [6], [7], [8], [9], [10]]\n",
    "train, test = train_test_split(data)\n",
    "print(train)\n",
    "print(test)"
   ]
  },
  {
   "cell_type": "markdown",
   "metadata": {},
   "source": [
    "## train_test_split without numpy without loop"
   ]
  },
  {
   "cell_type": "code",
   "execution_count": 10,
   "metadata": {},
   "outputs": [],
   "source": [
    "import random\n",
    "\n",
    "def train_test_split(data, split=0.2, random_seed=42):\n",
    "    random.seed(random_seed)\n",
    "    train = []\n",
    "    shuffled_indexes = random.sample(list(data), len(data))\n",
    "    test_size = int(split * len(data))\n",
    "    test_indexes = shuffled_indexes[:test_size]\n",
    "    train_indexes = shuffled_indexes[test_size:]\n",
    "    return train_indexes, test_indexes"
   ]
  },
  {
   "cell_type": "code",
   "execution_count": 15,
   "metadata": {},
   "outputs": [
    {
     "name": "stdout",
     "output_type": "stream",
     "text": [
      "[[5], [10], [7], [6], [9], [3], [4], [8]]\n",
      "[[2], [1]]\n"
     ]
    }
   ],
   "source": [
    "data = [[1], [2], [3], [4], [5], [6], [7], [8], [9], [10]]\n",
    "train, test = train_test_split(data)\n",
    "print(train)\n",
    "print(test)"
   ]
  },
  {
   "cell_type": "markdown",
   "metadata": {},
   "source": [
    "## k-fold cross validation"
   ]
  },
  {
   "cell_type": "code",
   "execution_count": 21,
   "metadata": {},
   "outputs": [],
   "source": [
    "import random\n",
    "\n",
    "def kfoldcv(indexes, k=10, random_seed=42):\n",
    "    size = len(indexes)\n",
    "    subset_size = round(size / k)\n",
    "    random.Random(random_seed).shuffle(indexes)\n",
    "    subsets = [indexes[x:x+subset_size] for x in range(0, \n",
    "                                                       len(indexes), \n",
    "                                                       subset_size)]\n",
    "    kfolds = []\n",
    "    for i in range(k):\n",
    "        test = subsets[i]\n",
    "        train = []\n",
    "        for subset in subsets:\n",
    "            if subset != test:\n",
    "                train.append(subset)\n",
    "        kfolds.append((train,test))\n",
    "        \n",
    "    return kfolds"
   ]
  },
  {
   "cell_type": "code",
   "execution_count": 24,
   "metadata": {},
   "outputs": [
    {
     "data": {
      "text/plain": [
       "[([[[9]], [[3]], [[1]], [[7]], [[10]], [[2]], [[6]], [[8]], [[4]]], [[5]]),\n",
       " ([[[5]], [[3]], [[1]], [[7]], [[10]], [[2]], [[6]], [[8]], [[4]]], [[9]]),\n",
       " ([[[5]], [[9]], [[1]], [[7]], [[10]], [[2]], [[6]], [[8]], [[4]]], [[3]]),\n",
       " ([[[5]], [[9]], [[3]], [[7]], [[10]], [[2]], [[6]], [[8]], [[4]]], [[1]]),\n",
       " ([[[5]], [[9]], [[3]], [[1]], [[10]], [[2]], [[6]], [[8]], [[4]]], [[7]]),\n",
       " ([[[5]], [[9]], [[3]], [[1]], [[7]], [[2]], [[6]], [[8]], [[4]]], [[10]]),\n",
       " ([[[5]], [[9]], [[3]], [[1]], [[7]], [[10]], [[6]], [[8]], [[4]]], [[2]]),\n",
       " ([[[5]], [[9]], [[3]], [[1]], [[7]], [[10]], [[2]], [[8]], [[4]]], [[6]]),\n",
       " ([[[5]], [[9]], [[3]], [[1]], [[7]], [[10]], [[2]], [[6]], [[4]]], [[8]]),\n",
       " ([[[5]], [[9]], [[3]], [[1]], [[7]], [[10]], [[2]], [[6]], [[8]]], [[4]])]"
      ]
     },
     "execution_count": 24,
     "metadata": {},
     "output_type": "execute_result"
    }
   ],
   "source": [
    "kfolds = kfoldcv(data)\n",
    "kfolds"
   ]
  },
  {
   "cell_type": "markdown",
   "metadata": {},
   "source": [
    "## k-fold cv investigating"
   ]
  },
  {
   "cell_type": "code",
   "execution_count": 64,
   "metadata": {},
   "outputs": [],
   "source": [
    "import random\n",
    "\n",
    "def kfoldcv(indexes, k=3, random_seed=42):\n",
    "    size = len(indexes)\n",
    "    random.seed(random_seed)\n",
    "    subset_size = int(size / k)\n",
    "    shuffled_indexes = random.sample(list(indexes), size)\n",
    "    subsets = [\n",
    "        shuffled_indexes[x:x+subset_size] for x in range(0,\n",
    "                                                         size, \n",
    "                                                         subset_size)]\n",
    "    kfolds = []\n",
    "    for i in range(k):\n",
    "        test = subsets[i]\n",
    "        train = []\n",
    "        for subset in subsets:\n",
    "            if subset != test:\n",
    "                train.append(subset)\n",
    "        kfolds.append((train, test))\n",
    "    \n",
    "    return kfolds"
   ]
  },
  {
   "cell_type": "code",
   "execution_count": 65,
   "metadata": {},
   "outputs": [
    {
     "data": {
      "text/plain": [
       "[([[[4], [2], [10]], [[8], [3], [1]], [[6]]], [[9], [5], [7]]),\n",
       " ([[[9], [5], [7]], [[8], [3], [1]], [[6]]], [[4], [2], [10]]),\n",
       " ([[[9], [5], [7]], [[4], [2], [10]], [[6]]], [[8], [3], [1]])]"
      ]
     },
     "execution_count": 65,
     "metadata": {},
     "output_type": "execute_result"
    }
   ],
   "source": [
    "kfolds = kfoldcv(data)\n",
    "kfolds"
   ]
  },
  {
   "cell_type": "markdown",
   "metadata": {},
   "source": [
    "When the division between size of the indexes and k is not perfect, the \n",
    "```python\n",
    "subsets = [shuffled_indexes[x:x+subset_size] for x in range(0 , size, subset_size)]\n",
    "```\n",
    "\n",
    "isn't right. As you can see with k=3 and len(indexes)=10, 3 subsets with 3 elements and 1 subset with 1 element. So, we asked for 3 folds and got 4?!"
   ]
  },
  {
   "cell_type": "code",
   "execution_count": 121,
   "metadata": {},
   "outputs": [],
   "source": [
    "size = len(data)\n",
    "k = 3"
   ]
  },
  {
   "cell_type": "code",
   "execution_count": 122,
   "metadata": {},
   "outputs": [
    {
     "data": {
      "text/plain": [
       "3.3333333333333335"
      ]
     },
     "execution_count": 122,
     "metadata": {},
     "output_type": "execute_result"
    }
   ],
   "source": [
    "size / k"
   ]
  },
  {
   "cell_type": "code",
   "execution_count": 125,
   "metadata": {},
   "outputs": [
    {
     "data": {
      "text/plain": [
       "3"
      ]
     },
     "execution_count": 125,
     "metadata": {},
     "output_type": "execute_result"
    }
   ],
   "source": [
    "size // k"
   ]
  },
  {
   "cell_type": "code",
   "execution_count": 124,
   "metadata": {},
   "outputs": [
    {
     "data": {
      "text/plain": [
       "1"
      ]
     },
     "execution_count": 124,
     "metadata": {},
     "output_type": "execute_result"
    }
   ],
   "source": [
    "size % k"
   ]
  },
  {
   "cell_type": "markdown",
   "metadata": {},
   "source": [
    "### If the difference between (size//k) and (size%k) is greater than 1 we should do it differently than the list comprehension above\n",
    "\n",
    "From Sklearn implementation:\n",
    "The first ``n_samples % n_splits`` folds have size\n",
    "    ``n_samples // n_splits + 1``, other folds have size\n",
    "    ``n_samples // n_splits``, where ``n_samples`` is the number of samples"
   ]
  },
  {
   "cell_type": "code",
   "execution_count": 114,
   "metadata": {},
   "outputs": [],
   "source": [
    "import random\n",
    "\n",
    "def kfoldcv(indexes, k=10, random_seed=42):\n",
    "    random.seed(random_seed)\n",
    "    size = len(indexes)\n",
    "    # using sample to avoid shuffling the indexes inplace\n",
    "    shuffled_indexes = random.sample(list(indexes), size)\n",
    "    fold_sizes = [size // k for i in range(k)]\n",
    "    for i in range(size%k):\n",
    "        fold_sizes[i] += 1\n",
    "    \n",
    "    current = 0\n",
    "    subsets = []\n",
    "    for fold_size in fold_sizes:\n",
    "        start, stop = current, current + fold_size\n",
    "        subsets.append(shuffled_indexes[start:stop])\n",
    "        current = stop\n",
    "        \n",
    "    kfolds = []\n",
    "    for i in range(k):\n",
    "        test = subsets[i]\n",
    "        train = []\n",
    "        for subset in subsets:\n",
    "            if subset != test:\n",
    "                train.append(subset)\n",
    "        kfolds.append((train, test))\n",
    "    \n",
    "    return kfolds"
   ]
  },
  {
   "cell_type": "code",
   "execution_count": 120,
   "metadata": {},
   "outputs": [
    {
     "data": {
      "text/plain": [
       "[([[[2], [10], [8]], [[3], [1], [6]]], [[9], [5], [7], [4]]),\n",
       " ([[[9], [5], [7], [4]], [[3], [1], [6]]], [[2], [10], [8]]),\n",
       " ([[[9], [5], [7], [4]], [[2], [10], [8]]], [[3], [1], [6]])]"
      ]
     },
     "execution_count": 120,
     "metadata": {},
     "output_type": "execute_result"
    }
   ],
   "source": [
    "kfoldcv(data, k=3)"
   ]
  },
  {
   "cell_type": "code",
   "execution_count": 117,
   "metadata": {},
   "outputs": [
    {
     "data": {
      "text/plain": [
       "[([[[10], [8], [3], [1], [6]]], [[9], [5], [7], [4], [2]]),\n",
       " ([[[9], [5], [7], [4], [2]]], [[10], [8], [3], [1], [6]])]"
      ]
     },
     "execution_count": 117,
     "metadata": {},
     "output_type": "execute_result"
    }
   ],
   "source": [
    "kfoldcv(data, k=2)"
   ]
  },
  {
   "cell_type": "code",
   "execution_count": 118,
   "metadata": {},
   "outputs": [
    {
     "data": {
      "text/plain": [
       "[([[[4], [2], [10]], [[8], [3]], [[1], [6]]], [[9], [5], [7]]),\n",
       " ([[[9], [5], [7]], [[8], [3]], [[1], [6]]], [[4], [2], [10]]),\n",
       " ([[[9], [5], [7]], [[4], [2], [10]], [[1], [6]]], [[8], [3]]),\n",
       " ([[[9], [5], [7]], [[4], [2], [10]], [[8], [3]]], [[1], [6]])]"
      ]
     },
     "execution_count": 118,
     "metadata": {},
     "output_type": "execute_result"
    }
   ],
   "source": [
    "kfoldcv(data, k=4)"
   ]
  },
  {
   "cell_type": "code",
   "execution_count": 119,
   "metadata": {},
   "outputs": [
    {
     "data": {
      "text/plain": [
       "[([[[7], [4]], [[2], [10]], [[8], [3]], [[1], [6]]], [[9], [5]]),\n",
       " ([[[9], [5]], [[2], [10]], [[8], [3]], [[1], [6]]], [[7], [4]]),\n",
       " ([[[9], [5]], [[7], [4]], [[8], [3]], [[1], [6]]], [[2], [10]]),\n",
       " ([[[9], [5]], [[7], [4]], [[2], [10]], [[1], [6]]], [[8], [3]]),\n",
       " ([[[9], [5]], [[7], [4]], [[2], [10]], [[8], [3]]], [[1], [6]])]"
      ]
     },
     "execution_count": 119,
     "metadata": {},
     "output_type": "execute_result"
    }
   ],
   "source": [
    "kfoldcv(data, k=5)"
   ]
  },
  {
   "cell_type": "markdown",
   "metadata": {},
   "source": [
    "Well, it seems to work now"
   ]
  }
 ],
 "metadata": {
  "kernelspec": {
   "display_name": "Python 3",
   "language": "python",
   "name": "python3"
  },
  "language_info": {
   "codemirror_mode": {
    "name": "ipython",
    "version": 3
   },
   "file_extension": ".py",
   "mimetype": "text/x-python",
   "name": "python",
   "nbconvert_exporter": "python",
   "pygments_lexer": "ipython3",
   "version": "3.7.4"
  }
 },
 "nbformat": 4,
 "nbformat_minor": 2
}
