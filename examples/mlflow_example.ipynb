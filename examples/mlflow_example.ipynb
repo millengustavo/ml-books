{
 "cells": [
  {
   "cell_type": "markdown",
   "metadata": {},
   "source": [
    "# MLflow Example\n",
    "\n",
    "Training an xgboost model on the iris dataset to understand the mlflow ui interface\n",
    "\n",
    "## How to run\n",
    "\n",
    "```\n",
    "conda create --name mlflow_example python=3.6\n",
    "```\n",
    "\n",
    "```\n",
    "conda activate mlflow_example\n",
    "```\n",
    "\n",
    "```\n",
    "pip install matplotlib==3.2.2 mlflow==1.9.0 scikit-learn==0.23.1 xgboost==1.1.1 jupyterlab==2.1.5\n",
    "```\n",
    "\n",
    "```\n",
    "jupyter lab\n",
    "```"
   ]
  },
  {
   "cell_type": "code",
   "execution_count": 1,
   "metadata": {},
   "outputs": [],
   "source": [
    "from sklearn import datasets\n",
    "from sklearn.model_selection import train_test_split\n",
    "from sklearn.metrics import accuracy_score, log_loss\n",
    "import xgboost as xgb\n",
    "import matplotlib as mpl\n",
    "\n",
    "\n",
    "import mlflow\n",
    "import mlflow.xgboost\n",
    "\n",
    "mpl.use('Agg')"
   ]
  },
  {
   "cell_type": "code",
   "execution_count": 5,
   "metadata": {},
   "outputs": [
    {
     "name": "stdout",
     "output_type": "stream",
     "text": [
      "[0]\ttrain-mlogloss:0.75473\n",
      "[1]\ttrain-mlogloss:0.55294\n",
      "[2]\ttrain-mlogloss:0.41808\n",
      "[3]\ttrain-mlogloss:0.32272\n",
      "[4]\ttrain-mlogloss:0.25458\n",
      "[5]\ttrain-mlogloss:0.20410\n",
      "[6]\ttrain-mlogloss:0.16818\n",
      "[7]\ttrain-mlogloss:0.13936\n",
      "[8]\ttrain-mlogloss:0.11815\n",
      "[9]\ttrain-mlogloss:0.10110\n"
     ]
    },
    {
     "name": "stderr",
     "output_type": "stream",
     "text": [
      "c:\\users\\fraga\\anaconda3\\envs\\mlflow_example\\lib\\site-packages\\mlflow\\xgboost.py:333: DeprecationWarning: inspect.getargspec() is deprecated since Python 3.0, use inspect.signature() or inspect.getfullargspec()\n",
      "  all_arg_names = inspect.getargspec(original)[0]  # pylint: disable=W1505\n"
     ]
    }
   ],
   "source": [
    "# prepare train and test data\n",
    "iris = datasets.load_iris()\n",
    "X = iris.data\n",
    "y = iris.target\n",
    "X_train, X_test, y_train, y_test = train_test_split(X, y, test_size=0.2, random_state=42)\n",
    "dtrain = xgb.DMatrix(X_train, label=y_train)\n",
    "dtest = xgb.DMatrix(X_test, label=y_test)\n",
    "\n",
    "# enable auto logging\n",
    "mlflow.xgboost.autolog()\n",
    "\n",
    "with mlflow.start_run():\n",
    "\n",
    "    # train model\n",
    "    params = {\n",
    "        'objective': 'multi:softprob',\n",
    "        'num_class': 3,\n",
    "        'learning_rate': 0.3,\n",
    "        'eval_metric': 'mlogloss',\n",
    "        'colsample_bytree': 0.8,\n",
    "        'subsample': 0.8,\n",
    "        'seed': 42,\n",
    "    }\n",
    "    model = xgb.train(params, dtrain, evals=[(dtrain, 'train')])\n",
    "\n",
    "    # evaluate model\n",
    "    y_proba = model.predict(dtest)\n",
    "    y_pred = y_proba.argmax(axis=1)\n",
    "    loss = log_loss(y_test, y_proba)\n",
    "    acc = accuracy_score(y_test, y_pred)\n",
    "\n",
    "    # log metrics\n",
    "    mlflow.log_metrics({'log_loss': loss, 'accuracy': acc})"
   ]
  },
  {
   "cell_type": "markdown",
   "metadata": {},
   "source": [
    "# MLflow ui\n",
    "Run\n",
    "```\n",
    "mlflow ui\n",
    "```\n",
    "\n",
    "Change the params from xgboost and run the experiment again multiple times to compare on `mlflow ui`"
   ]
  }
 ],
 "metadata": {
  "kernelspec": {
   "display_name": "Python 3",
   "language": "python",
   "name": "python3"
  },
  "language_info": {
   "codemirror_mode": {
    "name": "ipython",
    "version": 3
   },
   "file_extension": ".py",
   "mimetype": "text/x-python",
   "name": "python",
   "nbconvert_exporter": "python",
   "pygments_lexer": "ipython3",
   "version": "3.6.10"
  }
 },
 "nbformat": 4,
 "nbformat_minor": 4
}
