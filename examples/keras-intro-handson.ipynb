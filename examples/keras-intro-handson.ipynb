{
 "cells": [
  {
   "cell_type": "markdown",
   "metadata": {},
   "source": [
    "# CH10. Introduction to Artificial Neural Networks with Keras\n",
    "\n",
    "## Implementing MLPs with Keras"
   ]
  },
  {
   "cell_type": "code",
   "execution_count": 1,
   "metadata": {},
   "outputs": [],
   "source": [
    "import tensorflow as tf\n",
    "from tensorflow import keras"
   ]
  },
  {
   "cell_type": "code",
   "execution_count": 2,
   "metadata": {},
   "outputs": [
    {
     "data": {
      "text/plain": [
       "'2.0.0'"
      ]
     },
     "execution_count": 2,
     "metadata": {},
     "output_type": "execute_result"
    }
   ],
   "source": [
    "tf.__version__"
   ]
  },
  {
   "cell_type": "code",
   "execution_count": 3,
   "metadata": {},
   "outputs": [
    {
     "data": {
      "text/plain": [
       "'2.2.4-tf'"
      ]
     },
     "execution_count": 3,
     "metadata": {},
     "output_type": "execute_result"
    }
   ],
   "source": [
    "keras.__version__"
   ]
  },
  {
   "cell_type": "code",
   "execution_count": 4,
   "metadata": {},
   "outputs": [],
   "source": [
    "fashion_mnist = keras.datasets.fashion_mnist\n",
    "(X_train_full, y_train_full), (X_test, y_test) = fashion_mnist.load_data()"
   ]
  },
  {
   "cell_type": "markdown",
   "metadata": {},
   "source": [
    "### Creating the validation set / scaling the input features"
   ]
  },
  {
   "cell_type": "code",
   "execution_count": 5,
   "metadata": {},
   "outputs": [],
   "source": [
    "X_valid, X_train = X_train_full[:5000] / 255.0, X_train_full[5000:] / 255.0\n",
    "y_valid, y_train = y_train_full[:5000], y_train_full[5000:]"
   ]
  },
  {
   "cell_type": "markdown",
   "metadata": {},
   "source": [
    "### Creating the model using the Sequential API"
   ]
  },
  {
   "cell_type": "code",
   "execution_count": 6,
   "metadata": {},
   "outputs": [],
   "source": [
    "model = keras.models.Sequential([\n",
    "    keras.layers.Flatten(input_shape=[28, 28]),\n",
    "    keras.layers.Dense(300, activation=\"relu\"),\n",
    "    keras.layers.Dense(100, activation=\"relu\"),\n",
    "    keras.layers.Dense(10, activation=\"softmax\")\n",
    "])"
   ]
  },
  {
   "cell_type": "code",
   "execution_count": 7,
   "metadata": {},
   "outputs": [
    {
     "name": "stdout",
     "output_type": "stream",
     "text": [
      "Model: \"sequential\"\n",
      "_________________________________________________________________\n",
      "Layer (type)                 Output Shape              Param #   \n",
      "=================================================================\n",
      "flatten (Flatten)            (None, 784)               0         \n",
      "_________________________________________________________________\n",
      "dense (Dense)                (None, 300)               235500    \n",
      "_________________________________________________________________\n",
      "dense_1 (Dense)              (None, 100)               30100     \n",
      "_________________________________________________________________\n",
      "dense_2 (Dense)              (None, 10)                1010      \n",
      "=================================================================\n",
      "Total params: 266,610\n",
      "Trainable params: 266,610\n",
      "Non-trainable params: 0\n",
      "_________________________________________________________________\n"
     ]
    }
   ],
   "source": [
    "model.summary()"
   ]
  },
  {
   "cell_type": "code",
   "execution_count": 8,
   "metadata": {},
   "outputs": [
    {
     "data": {
      "text/plain": [
       "[<tensorflow.python.keras.layers.core.Flatten at 0x63d1ba750>,\n",
       " <tensorflow.python.keras.layers.core.Dense at 0x63d1adc50>,\n",
       " <tensorflow.python.keras.layers.core.Dense at 0x63d1aded0>,\n",
       " <tensorflow.python.keras.layers.core.Dense at 0x63d1baf90>]"
      ]
     },
     "execution_count": 8,
     "metadata": {},
     "output_type": "execute_result"
    }
   ],
   "source": [
    "model.layers"
   ]
  },
  {
   "cell_type": "code",
   "execution_count": 9,
   "metadata": {},
   "outputs": [
    {
     "name": "stdout",
     "output_type": "stream",
     "text": [
      "(784, 300)\n",
      "[[-0.00842949 -0.0048126   0.06998527 ... -0.01603178  0.01850136\n",
      "  -0.04012742]\n",
      " [-0.0593372  -0.06046984  0.03689782 ... -0.03508042 -0.00999019\n",
      "   0.038186  ]\n",
      " [-0.0657009  -0.02286832  0.0350205  ...  0.00540691 -0.00967134\n",
      "   0.01801233]\n",
      " [ 0.04915041  0.01064453  0.03803266 ... -0.07190897 -0.06344225\n",
      "  -0.05764125]\n",
      " [ 0.01501986  0.01920371 -0.02952276 ...  0.04802485  0.03868876\n",
      "   0.04339325]]\n",
      "(300,)\n",
      "[0. 0. 0. 0. 0.]\n"
     ]
    }
   ],
   "source": [
    "weights, biases = model.layers[1].get_weights()\n",
    "print(weights.shape)\n",
    "print(weights[:5])\n",
    "print(biases.shape)\n",
    "print(biases[:5])"
   ]
  },
  {
   "cell_type": "markdown",
   "metadata": {},
   "source": [
    "### Compiling the model"
   ]
  },
  {
   "cell_type": "code",
   "execution_count": 10,
   "metadata": {},
   "outputs": [],
   "source": [
    "model.compile(loss=\"sparse_categorical_crossentropy\",\n",
    "              optimizer=\"sgd\",\n",
    "              metrics=[\"accuracy\"])"
   ]
  },
  {
   "cell_type": "markdown",
   "metadata": {},
   "source": [
    "### Training and evaluating the model"
   ]
  },
  {
   "cell_type": "code",
   "execution_count": 11,
   "metadata": {},
   "outputs": [
    {
     "name": "stdout",
     "output_type": "stream",
     "text": [
      "Train on 55000 samples, validate on 5000 samples\n",
      "Epoch 1/30\n",
      "55000/55000 [==============================] - 7s 134us/sample - loss: 0.7198 - accuracy: 0.7637 - val_loss: 0.5105 - val_accuracy: 0.8248\n",
      "Epoch 2/30\n",
      "55000/55000 [==============================] - 7s 128us/sample - loss: 0.4863 - accuracy: 0.8286 - val_loss: 0.4468 - val_accuracy: 0.8498\n",
      "Epoch 3/30\n",
      "55000/55000 [==============================] - 9s 155us/sample - loss: 0.4402 - accuracy: 0.8451 - val_loss: 0.4193 - val_accuracy: 0.8570\n",
      "Epoch 4/30\n",
      "55000/55000 [==============================] - 13s 228us/sample - loss: 0.4141 - accuracy: 0.8554 - val_loss: 0.4029 - val_accuracy: 0.8644\n",
      "Epoch 5/30\n",
      "55000/55000 [==============================] - 10s 183us/sample - loss: 0.3953 - accuracy: 0.8611 - val_loss: 0.3887 - val_accuracy: 0.8670\n",
      "Epoch 6/30\n",
      "55000/55000 [==============================] - 6s 114us/sample - loss: 0.3801 - accuracy: 0.8667 - val_loss: 0.3770 - val_accuracy: 0.8702\n",
      "Epoch 7/30\n",
      "55000/55000 [==============================] - 7s 135us/sample - loss: 0.3659 - accuracy: 0.8701 - val_loss: 0.3621 - val_accuracy: 0.8746\n",
      "Epoch 8/30\n",
      "55000/55000 [==============================] - 8s 144us/sample - loss: 0.3538 - accuracy: 0.8750 - val_loss: 0.3623 - val_accuracy: 0.8742\n",
      "Epoch 9/30\n",
      "55000/55000 [==============================] - 8s 143us/sample - loss: 0.3442 - accuracy: 0.8769 - val_loss: 0.3460 - val_accuracy: 0.8780\n",
      "Epoch 10/30\n",
      "55000/55000 [==============================] - 8s 137us/sample - loss: 0.3354 - accuracy: 0.8807 - val_loss: 0.3480 - val_accuracy: 0.8776\n",
      "Epoch 11/30\n",
      "55000/55000 [==============================] - 8s 148us/sample - loss: 0.3271 - accuracy: 0.8829 - val_loss: 0.3360 - val_accuracy: 0.8820\n",
      "Epoch 12/30\n",
      "55000/55000 [==============================] - 8s 143us/sample - loss: 0.3192 - accuracy: 0.8852 - val_loss: 0.3338 - val_accuracy: 0.8826\n",
      "Epoch 13/30\n",
      "55000/55000 [==============================] - 9s 172us/sample - loss: 0.3112 - accuracy: 0.8889 - val_loss: 0.3361 - val_accuracy: 0.8842\n",
      "Epoch 14/30\n",
      "55000/55000 [==============================] - 7s 127us/sample - loss: 0.3037 - accuracy: 0.8908 - val_loss: 0.3302 - val_accuracy: 0.8834\n",
      "Epoch 15/30\n",
      "55000/55000 [==============================] - 7s 121us/sample - loss: 0.2977 - accuracy: 0.8933 - val_loss: 0.3168 - val_accuracy: 0.8880\n",
      "Epoch 16/30\n",
      "55000/55000 [==============================] - 8s 146us/sample - loss: 0.2928 - accuracy: 0.8945 - val_loss: 0.3303 - val_accuracy: 0.8832\n",
      "Epoch 17/30\n",
      "55000/55000 [==============================] - 7s 136us/sample - loss: 0.2854 - accuracy: 0.8978 - val_loss: 0.3174 - val_accuracy: 0.8862\n",
      "Epoch 18/30\n",
      "55000/55000 [==============================] - 7s 134us/sample - loss: 0.2800 - accuracy: 0.8997 - val_loss: 0.3137 - val_accuracy: 0.8874\n",
      "Epoch 19/30\n",
      "55000/55000 [==============================] - 8s 139us/sample - loss: 0.2750 - accuracy: 0.9030 - val_loss: 0.3144 - val_accuracy: 0.8874\n",
      "Epoch 20/30\n",
      "55000/55000 [==============================] - 9s 161us/sample - loss: 0.2699 - accuracy: 0.9022 - val_loss: 0.3239 - val_accuracy: 0.8830\n",
      "Epoch 21/30\n",
      "55000/55000 [==============================] - 7s 119us/sample - loss: 0.2643 - accuracy: 0.9053 - val_loss: 0.3134 - val_accuracy: 0.8888\n",
      "Epoch 22/30\n",
      "55000/55000 [==============================] - 8s 142us/sample - loss: 0.2600 - accuracy: 0.9061 - val_loss: 0.3145 - val_accuracy: 0.8884\n",
      "Epoch 23/30\n",
      "55000/55000 [==============================] - 7s 131us/sample - loss: 0.2555 - accuracy: 0.9081 - val_loss: 0.3016 - val_accuracy: 0.8946\n",
      "Epoch 24/30\n",
      "55000/55000 [==============================] - 6s 118us/sample - loss: 0.2513 - accuracy: 0.9099 - val_loss: 0.3209 - val_accuracy: 0.8852\n",
      "Epoch 25/30\n",
      "55000/55000 [==============================] - 6s 117us/sample - loss: 0.2465 - accuracy: 0.9119 - val_loss: 0.3198 - val_accuracy: 0.8864\n",
      "Epoch 26/30\n",
      "55000/55000 [==============================] - 8s 139us/sample - loss: 0.2427 - accuracy: 0.9130 - val_loss: 0.3000 - val_accuracy: 0.8920\n",
      "Epoch 27/30\n",
      "55000/55000 [==============================] - 7s 130us/sample - loss: 0.2376 - accuracy: 0.9152 - val_loss: 0.3135 - val_accuracy: 0.8856\n",
      "Epoch 28/30\n",
      "55000/55000 [==============================] - 8s 143us/sample - loss: 0.2348 - accuracy: 0.9157 - val_loss: 0.3173 - val_accuracy: 0.8810\n",
      "Epoch 29/30\n",
      "55000/55000 [==============================] - 7s 131us/sample - loss: 0.2302 - accuracy: 0.9183 - val_loss: 0.3037 - val_accuracy: 0.8928\n",
      "Epoch 30/30\n",
      "55000/55000 [==============================] - 8s 144us/sample - loss: 0.2267 - accuracy: 0.9188 - val_loss: 0.3157 - val_accuracy: 0.8904\n"
     ]
    }
   ],
   "source": [
    "history = model.fit(X_train,\n",
    "                    y_train,\n",
    "                    epochs=30,\n",
    "                    validation_data=(X_valid, y_valid))"
   ]
  },
  {
   "cell_type": "code",
   "execution_count": 12,
   "metadata": {},
   "outputs": [
    {
     "data": {
      "image/png": "[encoded data removed]",
      "text/plain": [
       "<Figure size 576x360 with 1 Axes>"
      ]
     },
     "metadata": {
      "needs_background": "light"
     },
     "output_type": "display_data"
    }
   ],
   "source": [
    "import pandas as pd\n",
    "import matplotlib.pyplot as plt\n",
    "%matplotlib inline\n",
    "\n",
    "pd.DataFrame(history.history).plot(figsize=(8,5))\n",
    "plt.grid(True)\n",
    "plt.gca().set_ylim(0, 1)\n",
    "plt.show()"
   ]
  },
  {
   "cell_type": "markdown",
   "metadata": {},
   "source": [
    "Learning curves: the mean training loss and accuracy measured over each epoch, and the mean validation loss and accuracy measured at the end of each epoch"
   ]
  },
  {
   "cell_type": "markdown",
   "metadata": {},
   "source": [
    "### Evaluating on the test set"
   ]
  },
  {
   "cell_type": "code",
   "execution_count": 13,
   "metadata": {},
   "outputs": [],
   "source": [
    "# model.evaluate(X_test, y_test)"
   ]
  },
  {
   "cell_type": "markdown",
   "metadata": {},
   "source": [
    "### Using the model to make predictions"
   ]
  },
  {
   "cell_type": "code",
   "execution_count": 14,
   "metadata": {},
   "outputs": [
    {
     "data": {
      "text/plain": [
       "array([[0., 0., 0., 0., 0., 0., 0., 0., 0., 1.],\n",
       "       [0., 0., 1., 0., 0., 0., 0., 0., 0., 0.],\n",
       "       [0., 1., 0., 0., 0., 0., 0., 0., 0., 0.]], dtype=float32)"
      ]
     },
     "execution_count": 14,
     "metadata": {},
     "output_type": "execute_result"
    }
   ],
   "source": [
    "X_new = X_test[:3]\n",
    "y_proba = model.predict(X_new)\n",
    "y_proba.round(2)"
   ]
  },
  {
   "cell_type": "code",
   "execution_count": 15,
   "metadata": {},
   "outputs": [
    {
     "data": {
      "text/plain": [
       "array([9, 2, 1])"
      ]
     },
     "execution_count": 15,
     "metadata": {},
     "output_type": "execute_result"
    }
   ],
   "source": [
    "y_pred = model.predict_classes(X_new)\n",
    "y_pred"
   ]
  },
  {
   "cell_type": "code",
   "execution_count": 16,
   "metadata": {},
   "outputs": [
    {
     "data": {
      "text/plain": [
       "array([9, 2, 1], dtype=uint8)"
      ]
     },
     "execution_count": 16,
     "metadata": {},
     "output_type": "execute_result"
    }
   ],
   "source": [
    "y_new = y_test[:3]\n",
    "y_new"
   ]
  },
  {
   "cell_type": "markdown",
   "metadata": {},
   "source": [
    "## Regression MLP using the Sequential API"
   ]
  },
  {
   "cell_type": "code",
   "execution_count": 17,
   "metadata": {},
   "outputs": [],
   "source": [
    "from sklearn.datasets import fetch_california_housing\n",
    "from sklearn.model_selection import train_test_split\n",
    "from sklearn.preprocessing import StandardScaler\n",
    "\n",
    "housing = fetch_california_housing()\n",
    "\n",
    "X_train_full, X_test, y_train_full, y_test = train_test_split(\n",
    "    housing.data, housing.target)\n",
    "X_train, X_valid, y_train, y_valid = train_test_split(\n",
    "    X_train_full, y_train_full)\n",
    "\n",
    "scaler = StandardScaler()\n",
    "X_train = scaler.fit_transform(X_train)\n",
    "X_valid = scaler.transform(X_valid)\n",
    "X_test = scaler.transform(X_test)"
   ]
  },
  {
   "cell_type": "code",
   "execution_count": 18,
   "metadata": {},
   "outputs": [
    {
     "name": "stdout",
     "output_type": "stream",
     "text": [
      "Train on 11610 samples, validate on 3870 samples\n",
      "Epoch 1/20\n",
      "11610/11610 [==============================] - 2s 135us/sample - loss: 0.8380 - val_loss: 0.5662\n",
      "Epoch 2/20\n",
      "11610/11610 [==============================] - 1s 77us/sample - loss: 0.5212 - val_loss: 0.6083\n",
      "Epoch 3/20\n",
      "11610/11610 [==============================] - 1s 74us/sample - loss: 1.0034 - val_loss: 0.5208\n",
      "Epoch 4/20\n",
      "11610/11610 [==============================] - 1s 78us/sample - loss: 0.4880 - val_loss: 0.4743\n",
      "Epoch 5/20\n",
      "11610/11610 [==============================] - 1s 75us/sample - loss: 0.4684 - val_loss: 0.4603\n",
      "Epoch 6/20\n",
      "11610/11610 [==============================] - 1s 74us/sample - loss: 0.4467 - val_loss: 0.4479\n",
      "Epoch 7/20\n",
      "11610/11610 [==============================] - 1s 76us/sample - loss: 0.4355 - val_loss: 0.4403\n",
      "Epoch 8/20\n",
      "11610/11610 [==============================] - 1s 73us/sample - loss: 0.4318 - val_loss: 0.4337\n",
      "Epoch 9/20\n",
      "11610/11610 [==============================] - 1s 76us/sample - loss: 0.4250 - val_loss: 0.4308\n",
      "Epoch 10/20\n",
      "11610/11610 [==============================] - 1s 74us/sample - loss: 0.4200 - val_loss: 0.4219\n",
      "Epoch 11/20\n",
      "11610/11610 [==============================] - 1s 73us/sample - loss: 0.4148 - val_loss: 0.4222\n",
      "Epoch 12/20\n",
      "11610/11610 [==============================] - 1s 72us/sample - loss: 0.4101 - val_loss: 0.4180\n",
      "Epoch 13/20\n",
      "11610/11610 [==============================] - 1s 74us/sample - loss: 0.4067 - val_loss: 0.4114\n",
      "Epoch 14/20\n",
      "11610/11610 [==============================] - 1s 74us/sample - loss: 0.4026 - val_loss: 0.4051\n",
      "Epoch 15/20\n",
      "11610/11610 [==============================] - 1s 77us/sample - loss: 0.3988 - val_loss: 0.4030\n",
      "Epoch 16/20\n",
      "11610/11610 [==============================] - 1s 73us/sample - loss: 0.3998 - val_loss: 0.4092\n",
      "Epoch 17/20\n",
      "11610/11610 [==============================] - 1s 76us/sample - loss: 0.3943 - val_loss: 0.4035\n",
      "Epoch 18/20\n",
      "11610/11610 [==============================] - 1s 74us/sample - loss: 0.4307 - val_loss: 0.4440\n",
      "Epoch 19/20\n",
      "11610/11610 [==============================] - 1s 74us/sample - loss: 0.3977 - val_loss: 0.4014\n",
      "Epoch 20/20\n",
      "11610/11610 [==============================] - 1s 72us/sample - loss: 0.3886 - val_loss: 0.4050\n"
     ]
    }
   ],
   "source": [
    "model = keras.models.Sequential([\n",
    "    keras.layers.Dense(30, activation=\"relu\", input_shape=X_train.shape[1:]),\n",
    "    keras.layers.Dense(1)\n",
    "])\n",
    "\n",
    "model.compile(loss=\"mean_squared_error\", optimizer=\"sgd\")\n",
    "history = model.fit(X_train,\n",
    "                    y_train,\n",
    "                    epochs=20,\n",
    "                    validation_data=(X_valid, y_valid))"
   ]
  },
  {
   "cell_type": "code",
   "execution_count": 22,
   "metadata": {},
   "outputs": [],
   "source": [
    "# mse_test = model.evaluate(X_test, y_test)"
   ]
  },
  {
   "cell_type": "code",
   "execution_count": 23,
   "metadata": {},
   "outputs": [
    {
     "data": {
      "text/plain": [
       "array([[1.8277975 ],\n",
       "       [0.99947274],\n",
       "       [1.1934192 ]], dtype=float32)"
      ]
     },
     "execution_count": 23,
     "metadata": {},
     "output_type": "execute_result"
    }
   ],
   "source": [
    "X_new = X_test[:3]\n",
    "y_pred = model.predict(X_new)\n",
    "y_pred"
   ]
  },
  {
   "cell_type": "code",
   "execution_count": 24,
   "metadata": {},
   "outputs": [
    {
     "data": {
      "text/plain": [
       "array([1.279, 0.856, 1.224])"
      ]
     },
     "execution_count": 24,
     "metadata": {},
     "output_type": "execute_result"
    }
   ],
   "source": [
    "y_new = y_test[:3]\n",
    "y_new"
   ]
  },
  {
   "cell_type": "code",
   "execution_count": null,
   "metadata": {},
   "outputs": [],
   "source": []
  }
 ],
 "metadata": {
  "kernelspec": {
   "display_name": "Python 3",
   "language": "python",
   "name": "python3"
  },
  "language_info": {
   "codemirror_mode": {
    "name": "ipython",
    "version": 3
   },
   "file_extension": ".py",
   "mimetype": "text/x-python",
   "name": "python",
   "nbconvert_exporter": "python",
   "pygments_lexer": "ipython3",
   "version": "3.7.4"
  }
 },
 "nbformat": 4,
 "nbformat_minor": 2
}
